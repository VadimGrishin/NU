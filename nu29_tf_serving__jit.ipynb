{
 "cells": [
  {
   "cell_type": "markdown",
   "metadata": {
    "id": "jYysdyb-CaWM"
   },
   "source": [
    "# Обучаем и обслуживаем модель TensorFlow с помощью TensorFlow Serving\n",
    "\n",
    "\n"
   ]
  },
  {
   "cell_type": "code",
   "execution_count": 1,
   "metadata": {
    "colab": {
     "base_uri": "https://localhost:8080/"
    },
    "id": "dzLKpmZICaWN",
    "outputId": "3b291784-0eca-4b5c-aa47-79cab093f9cd"
   },
   "outputs": [
    {
     "name": "stdout",
     "output_type": "stream",
     "text": [
      "2.3.0\n"
     ]
    }
   ],
   "source": [
    "# TensorFlow и tf.keras\n",
    "import tensorflow as tf\n",
    "from tensorflow import keras\n",
    "from tensorflow.keras import Sequential\n",
    "from tensorflow.keras.layers import Conv2D, MaxPooling2D, Dropout, BatchNormalization, Flatten, Dense\n",
    "import tempfile\n",
    "import matplotlib.pyplot as plt\n",
    "import os\n",
    "# будем отслеживать все ошибки\n",
    "import subprocess\n",
    "\n",
    "import json\n",
    "import requests\n",
    "import random\n",
    "import numpy as np\n",
    "\n",
    "# Посмотрим на текущую версиб ТФ\n",
    "print(tf.__version__)"
   ]
  },
  {
   "cell_type": "markdown",
   "metadata": {
    "id": "5jAk1ZXqTJqN"
   },
   "source": [
    "## Загрузка и подготовка данных"
   ]
  },
  {
   "cell_type": "code",
   "execution_count": 2,
   "metadata": {},
   "outputs": [],
   "source": [
    "(train_images, train_labels), (test_images, test_labels) = keras.datasets.cifar10.load_data()\n",
    "assert train_images.shape == (50000, 32, 32, 3)\n",
    "assert test_images.shape == (10000, 32, 32, 3)\n",
    "assert train_labels.shape == (50000, 1)\n",
    "assert test_labels.shape == (10000, 1)"
   ]
  },
  {
   "cell_type": "code",
   "execution_count": 3,
   "metadata": {},
   "outputs": [
    {
     "data": {
      "text/plain": [
       "255"
      ]
     },
     "execution_count": 3,
     "metadata": {},
     "output_type": "execute_result"
    }
   ],
   "source": [
    "train_images[0].max()"
   ]
  },
  {
   "cell_type": "code",
   "execution_count": 4,
   "metadata": {},
   "outputs": [],
   "source": [
    "train_images = train_images / 255.0\n",
    "test_images = test_images / 255.0"
   ]
  },
  {
   "cell_type": "code",
   "execution_count": 5,
   "metadata": {},
   "outputs": [],
   "source": [
    "class_names = ['airplane', \t'automobile', \t'bird', \t'cat', \t'deer', \t'dog', \t'frog', \t'horse', \t'ship', \t'truck']"
   ]
  },
  {
   "cell_type": "markdown",
   "metadata": {
    "id": "PDu7OX8Nf5PY"
   },
   "source": [
    "### Архитектура"
   ]
  },
  {
   "cell_type": "code",
   "execution_count": 7,
   "metadata": {},
   "outputs": [],
   "source": [
    "# define cnn model  https://machinelearningmastery.com/how-to-develop-a-cnn-from-scratch-for-cifar-10-photo-classification/\n",
    "def define_model():\n",
    "    model = Sequential()\n",
    "    model.add(Conv2D(32, (3, 3), activation='relu', kernel_initializer='he_uniform', padding='same', input_shape=(32, 32, 3)))\n",
    "    model.add(BatchNormalization())\n",
    "    model.add(Conv2D(32, (3, 3), activation='relu', kernel_initializer='he_uniform', padding='same'))\n",
    "    model.add(BatchNormalization())\n",
    "    model.add(MaxPooling2D((2, 2)))\n",
    "    model.add(Dropout(0.2))\n",
    "    model.add(Conv2D(64, (3, 3), activation='relu', kernel_initializer='he_uniform', padding='same'))\n",
    "    model.add(BatchNormalization())\n",
    "    model.add(Conv2D(64, (3, 3), activation='relu', kernel_initializer='he_uniform', padding='same'))\n",
    "    model.add(BatchNormalization())\n",
    "    model.add(MaxPooling2D((2, 2)))\n",
    "    model.add(Dropout(0.3))\n",
    "    model.add(Conv2D(128, (3, 3), activation='relu', kernel_initializer='he_uniform', padding='same'))\n",
    "    model.add(BatchNormalization())\n",
    "    model.add(Conv2D(128, (3, 3), activation='relu', kernel_initializer='he_uniform', padding='same'))\n",
    "    model.add(BatchNormalization())\n",
    "    model.add(MaxPooling2D((2, 2)))\n",
    "    model.add(Dropout(0.4))\n",
    "    model.add(Flatten())\n",
    "    model.add(Dense(128, activation='relu', kernel_initializer='he_uniform'))\n",
    "    model.add(BatchNormalization())\n",
    "    model.add(Dropout(0.5))\n",
    "    model.add(Dense(10, activation='softmax'))\n",
    "    # compile model\n",
    "    model.compile(optimizer=tf.keras.optimizers.Adam(), \n",
    "              loss='sparse_categorical_crossentropy',\n",
    "              metrics=['accuracy'])\n",
    "    return model"
   ]
  },
  {
   "cell_type": "code",
   "execution_count": 6,
   "metadata": {},
   "outputs": [
    {
     "data": {
      "text/plain": [
       "(10000, 32, 32, 3)"
      ]
     },
     "execution_count": 6,
     "metadata": {},
     "output_type": "execute_result"
    }
   ],
   "source": [
    "test_images.shape"
   ]
  },
  {
   "cell_type": "code",
   "execution_count": 8,
   "metadata": {},
   "outputs": [],
   "source": [
    "model = define_model()"
   ]
  },
  {
   "cell_type": "code",
   "execution_count": 9,
   "metadata": {},
   "outputs": [
    {
     "name": "stdout",
     "output_type": "stream",
     "text": [
      "Model: \"sequential\"\n",
      "_________________________________________________________________\n",
      "Layer (type)                 Output Shape              Param #   \n",
      "=================================================================\n",
      "conv2d (Conv2D)              (None, 32, 32, 32)        896       \n",
      "_________________________________________________________________\n",
      "batch_normalization (BatchNo (None, 32, 32, 32)        128       \n",
      "_________________________________________________________________\n",
      "conv2d_1 (Conv2D)            (None, 32, 32, 32)        9248      \n",
      "_________________________________________________________________\n",
      "batch_normalization_1 (Batch (None, 32, 32, 32)        128       \n",
      "_________________________________________________________________\n",
      "max_pooling2d (MaxPooling2D) (None, 16, 16, 32)        0         \n",
      "_________________________________________________________________\n",
      "dropout (Dropout)            (None, 16, 16, 32)        0         \n",
      "_________________________________________________________________\n",
      "conv2d_2 (Conv2D)            (None, 16, 16, 64)        18496     \n",
      "_________________________________________________________________\n",
      "batch_normalization_2 (Batch (None, 16, 16, 64)        256       \n",
      "_________________________________________________________________\n",
      "conv2d_3 (Conv2D)            (None, 16, 16, 64)        36928     \n",
      "_________________________________________________________________\n",
      "batch_normalization_3 (Batch (None, 16, 16, 64)        256       \n",
      "_________________________________________________________________\n",
      "max_pooling2d_1 (MaxPooling2 (None, 8, 8, 64)          0         \n",
      "_________________________________________________________________\n",
      "dropout_1 (Dropout)          (None, 8, 8, 64)          0         \n",
      "_________________________________________________________________\n",
      "conv2d_4 (Conv2D)            (None, 8, 8, 128)         73856     \n",
      "_________________________________________________________________\n",
      "batch_normalization_4 (Batch (None, 8, 8, 128)         512       \n",
      "_________________________________________________________________\n",
      "conv2d_5 (Conv2D)            (None, 8, 8, 128)         147584    \n",
      "_________________________________________________________________\n",
      "batch_normalization_5 (Batch (None, 8, 8, 128)         512       \n",
      "_________________________________________________________________\n",
      "max_pooling2d_2 (MaxPooling2 (None, 4, 4, 128)         0         \n",
      "_________________________________________________________________\n",
      "dropout_2 (Dropout)          (None, 4, 4, 128)         0         \n",
      "_________________________________________________________________\n",
      "flatten (Flatten)            (None, 2048)              0         \n",
      "_________________________________________________________________\n",
      "dense (Dense)                (None, 128)               262272    \n",
      "_________________________________________________________________\n",
      "batch_normalization_6 (Batch (None, 128)               512       \n",
      "_________________________________________________________________\n",
      "dropout_3 (Dropout)          (None, 128)               0         \n",
      "_________________________________________________________________\n",
      "dense_1 (Dense)              (None, 10)                1290      \n",
      "=================================================================\n",
      "Total params: 552,874\n",
      "Trainable params: 551,722\n",
      "Non-trainable params: 1,152\n",
      "_________________________________________________________________\n"
     ]
    }
   ],
   "source": [
    "model.summary()"
   ]
  },
  {
   "cell_type": "markdown",
   "metadata": {},
   "source": [
    "## Обучение модели"
   ]
  },
  {
   "cell_type": "code",
   "execution_count": 11,
   "metadata": {},
   "outputs": [
    {
     "name": "stdout",
     "output_type": "stream",
     "text": [
      "Epoch 1/15\n",
      "782/782 [==============================] - 206s 263ms/step - loss: 1.6545 - accuracy: 0.4330 - val_loss: 1.2606 - val_accuracy: 0.5480\n",
      "Epoch 2/15\n",
      "782/782 [==============================] - 214s 274ms/step - loss: 1.1008 - accuracy: 0.6085 - val_loss: 0.9765 - val_accuracy: 0.6631\n",
      "Epoch 3/15\n",
      "782/782 [==============================] - 225s 287ms/step - loss: 0.9145 - accuracy: 0.6792 - val_loss: 0.8039 - val_accuracy: 0.7230\n",
      "Epoch 4/15\n",
      "782/782 [==============================] - 229s 292ms/step - loss: 0.8088 - accuracy: 0.7169 - val_loss: 0.8769 - val_accuracy: 0.6928\n",
      "Epoch 5/15\n",
      "782/782 [==============================] - 212s 272ms/step - loss: 0.7303 - accuracy: 0.7473 - val_loss: 0.7679 - val_accuracy: 0.7341\n",
      "Epoch 6/15\n",
      "782/782 [==============================] - 216s 276ms/step - loss: 0.6714 - accuracy: 0.7686 - val_loss: 0.6040 - val_accuracy: 0.7910\n",
      "Epoch 7/15\n",
      "782/782 [==============================] - 212s 271ms/step - loss: 0.6216 - accuracy: 0.7847 - val_loss: 0.5925 - val_accuracy: 0.7979\n",
      "Epoch 8/15\n",
      "782/782 [==============================] - 206s 263ms/step - loss: 0.5837 - accuracy: 0.7975 - val_loss: 0.8875 - val_accuracy: 0.7058\n",
      "Epoch 9/15\n",
      "782/782 [==============================] - 206s 264ms/step - loss: 0.5542 - accuracy: 0.8096 - val_loss: 0.6490 - val_accuracy: 0.7796\n",
      "Epoch 10/15\n",
      "782/782 [==============================] - 207s 265ms/step - loss: 0.5140 - accuracy: 0.8243 - val_loss: 0.5266 - val_accuracy: 0.8171\n",
      "Epoch 11/15\n",
      "782/782 [==============================] - 207s 264ms/step - loss: 0.4928 - accuracy: 0.8308 - val_loss: 0.5279 - val_accuracy: 0.8256\n",
      "Epoch 12/15\n",
      "782/782 [==============================] - 236s 301ms/step - loss: 0.4746 - accuracy: 0.8367 - val_loss: 0.5153 - val_accuracy: 0.8305\n",
      "Epoch 13/15\n",
      "782/782 [==============================] - 252s 322ms/step - loss: 0.4457 - accuracy: 0.8465 - val_loss: 0.4857 - val_accuracy: 0.8393\n",
      "Epoch 14/15\n",
      "782/782 [==============================] - 220s 282ms/step - loss: 0.4307 - accuracy: 0.8507 - val_loss: 0.5005 - val_accuracy: 0.8290\n",
      "Epoch 15/15\n",
      "782/782 [==============================] - 208s 266ms/step - loss: 0.4130 - accuracy: 0.8584 - val_loss: 0.4927 - val_accuracy: 0.8386\n"
     ]
    }
   ],
   "source": [
    "history = model.fit(train_images, train_labels, epochs=15, batch_size=64, validation_data=(test_images, test_labels))\n",
    "# evaluate model (train_images, train_labels), (test_images, test_labels)"
   ]
  },
  {
   "cell_type": "markdown",
   "metadata": {
    "id": "AwGPItyphqXT"
   },
   "source": [
    "## Сохраняем модель\n",
    "\n",
    "\n",
    "\n",
    "\n",
    "Для того, чтобы загрузить модель в TF Serving необходимо сохранит в формате [SavedModel](https://www.tensorflow.org/versions/r1.15/api_docs/python/tf/saved_model). Это создаст protobuf файл в папке с четко-прописанной иерархией и присвоит номер версии. Каждая версия экспортируется в разные подпапки по указанному пути."
   ]
  },
  {
   "cell_type": "code",
   "execution_count": 12,
   "metadata": {
    "colab": {
     "base_uri": "https://localhost:8080/"
    },
    "id": "0w5Rq8SsgWE6",
    "outputId": "005ab5ea-bd96-47d1-c4b2-4dd1db896a95"
   },
   "outputs": [
    {
     "name": "stdout",
     "output_type": "stream",
     "text": [
      "Путь для экспорта = E:/Vadim/N_U/nu29_TFServ/cifar_model\\1\n",
      "\n"
     ]
    }
   ],
   "source": [
    "MODEL_DIR = 'E:/Vadim/N_U/nu29_TFServ/cifar_model'# создание временной директории для хранения модели\n",
    "version = 1  # номер нашей версии\n",
    "export_path = os.path.join(MODEL_DIR, str(version)) \n",
    "print('Путь для экспорта = {}\\n'.format(export_path))"
   ]
  },
  {
   "cell_type": "code",
   "execution_count": 6,
   "metadata": {
    "id": "IRlc7p19T57Q"
   },
   "outputs": [
    {
     "name": "stdout",
     "output_type": "stream",
     "text": [
      "\n",
      "Модель уже сохранена\n",
      "\n"
     ]
    },
    {
     "name": "stderr",
     "output_type": "stream",
     "text": [
      "\"rm\" ­Ґ пў«пҐвбп ў­гваҐ­­Ґ© Ё«Ё ў­Ґи­Ґ©\n",
      "Є®¬ ­¤®©, ЁбЇ®«­пҐ¬®© Їа®Ја ¬¬®© Ё«Ё Ї ЄҐв­л¬ д ©«®¬.\n"
     ]
    }
   ],
   "source": [
    "if os.path.isdir(export_path):\n",
    "  print('\\nМодель уже сохранена\\n')\n",
    "  !rm -r {export_path}"
   ]
  },
  {
   "cell_type": "code",
   "execution_count": 13,
   "metadata": {
    "colab": {
     "base_uri": "https://localhost:8080/"
    },
    "id": "I06PgaGMTtaT",
    "outputId": "393141f9-efee-45d7-b50d-3a3fdd08b0fc"
   },
   "outputs": [
    {
     "name": "stdout",
     "output_type": "stream",
     "text": [
      "WARNING:tensorflow:From C:\\ProgramData\\anaconda\\lib\\site-packages\\tensorflow\\python\\training\\tracking\\tracking.py:111: Model.state_updates (from tensorflow.python.keras.engine.training) is deprecated and will be removed in a future version.\n",
      "Instructions for updating:\n",
      "This property should not be used in TensorFlow 2.0, as updates are applied automatically.\n",
      "WARNING:tensorflow:From C:\\ProgramData\\anaconda\\lib\\site-packages\\tensorflow\\python\\training\\tracking\\tracking.py:111: Layer.updates (from tensorflow.python.keras.engine.base_layer) is deprecated and will be removed in a future version.\n",
      "Instructions for updating:\n",
      "This property should not be used in TensorFlow 2.0, as updates are applied automatically.\n",
      "INFO:tensorflow:Assets written to: E:/Vadim/N_U/nu29_TFServ/cifar_model\\1\\assets\n",
      "\n",
      "Сохраненная модель:\n"
     ]
    },
    {
     "name": "stderr",
     "output_type": "stream",
     "text": [
      "\"ls\" ­Ґ пў«пҐвбп ў­гваҐ­­Ґ© Ё«Ё ў­Ґи­Ґ©\n",
      "Є®¬ ­¤®©, ЁбЇ®«­пҐ¬®© Їа®Ја ¬¬®© Ё«Ё Ї ЄҐв­л¬ д ©«®¬.\n"
     ]
    }
   ],
   "source": [
    "tf.keras.models.save_model(\n",
    "    model,\n",
    "    export_path,\n",
    "    overwrite=True,\n",
    "    include_optimizer=True,\n",
    "    save_format=None,\n",
    "    signatures=None,\n",
    "    options=None\n",
    ")\n",
    "\n",
    "print('\\nСохраненная модель:')\n",
    "!ls -l {export_path}"
   ]
  },
  {
   "cell_type": "markdown",
   "metadata": {
    "id": "FM7B_RuDYoIj"
   },
   "source": [
    "## Вывод сигнатуры сохраненной модели\n",
    "\n",
    "\n",
    "Используем утилиту терминала `saved_model_cli` для того, чтобы взглянуть на [MetaGraphDefs](https://www.tensorflow.org/versions/r1.15/api_docs/python/tf/MetaGraphDef) (модели) и [SignatureDefs](../signature_defs) (методы, которые вы можете вызвать)  вашей сохраненной модели.\n",
    " Еще больше о SavedModel CLI [тут](https://github.com/tensorflow/docs/blob/master/site/en/r1/guide/saved_model.md#cli-to-inspect-and-execute-savedmodel)."
   ]
  },
  {
   "cell_type": "code",
   "execution_count": 14,
   "metadata": {
    "colab": {
     "base_uri": "https://localhost:8080/"
    },
    "id": "LU4GDF_aYtfQ",
    "outputId": "d35eff55-ad89-4b54-d520-c216ae35a5f3"
   },
   "outputs": [
    {
     "name": "stdout",
     "output_type": "stream",
     "text": [
      "\n",
      "MetaGraphDef with tag-set: 'serve' contains the following SignatureDefs:\n",
      "\n",
      "signature_def['__saved_model_init_op']:\n",
      "  The given SavedModel SignatureDef contains the following input(s):\n",
      "  The given SavedModel SignatureDef contains the following output(s):\n",
      "    outputs['__saved_model_init_op'] tensor_info:\n",
      "        dtype: DT_INVALID\n",
      "        shape: unknown_rank\n",
      "        name: NoOp\n",
      "  Method name is: \n",
      "\n",
      "signature_def['serving_default']:\n",
      "  The given SavedModel SignatureDef contains the following input(s):\n",
      "    inputs['conv2d_input'] tensor_info:\n",
      "        dtype: DT_FLOAT\n",
      "        shape: (-1, 32, 32, 3)\n",
      "        name: serving_default_conv2d_input:0\n",
      "  The given SavedModel SignatureDef contains the following output(s):\n",
      "    outputs['dense_1'] tensor_info:\n",
      "        dtype: DT_FLOAT\n",
      "        shape: (-1, 10)\n",
      "        name: StatefulPartitionedCall:0\n",
      "  Method name is: tensorflow/serving/predict\n",
      "\n",
      "Defined Functions:\n",
      "  Function Name: '__call__'\n",
      "    Option #1\n",
      "      Callable with:\n",
      "        Argument #1\n",
      "          conv2d_input: TensorSpec(shape=(None, 32, 32, 3), dtype=tf.float32, name='conv2d_input')\n",
      "        Argument #2\n",
      "          DType: bool\n",
      "          Value: True\n",
      "        Argument #3\n",
      "          DType: NoneType\n",
      "          Value: None\n",
      "    Option #2\n",
      "      Callable with:\n",
      "        Argument #1\n",
      "          inputs: TensorSpec(shape=(None, 32, 32, 3), dtype=tf.float32, name='inputs')\n",
      "        Argument #2\n",
      "          DType: bool\n",
      "          Value: True\n",
      "        Argument #3\n",
      "          DType: NoneType\n",
      "          Value: None\n",
      "    Option #3\n",
      "      Callable with:\n",
      "        Argument #1\n",
      "          conv2d_input: TensorSpec(shape=(None, 32, 32, 3), dtype=tf.float32, name='conv2d_input')\n",
      "        Argument #2\n",
      "          DType: bool\n",
      "          Value: False\n",
      "        Argument #3\n",
      "          DType: NoneType\n",
      "          Value: None\n",
      "    Option #4\n",
      "      Callable with:\n",
      "        Argument #1\n",
      "          inputs: TensorSpec(shape=(None, 32, 32, 3), dtype=tf.float32, name='inputs')\n",
      "        Argument #2\n",
      "          DType: bool\n",
      "          Value: False\n",
      "        Argument #3\n",
      "          DType: NoneType\n",
      "          Value: None\n",
      "\n",
      "  Function Name: '_default_save_signature'\n",
      "    Option #1\n",
      "      Callable with:\n",
      "        Argument #1\n",
      "          conv2d_input: TensorSpec(shape=(None, 32, 32, 3), dtype=tf.float32, name='conv2d_input')\n",
      "\n",
      "  Function Name: 'call_and_return_all_conditional_losses'\n",
      "    Option #1\n",
      "      Callable with:\n",
      "        Argument #1\n",
      "          inputs: TensorSpec(shape=(None, 32, 32, 3), dtype=tf.float32, name='inputs')\n",
      "        Argument #2\n",
      "          DType: bool\n",
      "          Value: False\n",
      "        Argument #3\n",
      "          DType: NoneType\n",
      "          Value: None\n",
      "    Option #2\n",
      "      Callable with:\n",
      "        Argument #1\n",
      "          inputs: TensorSpec(shape=(None, 32, 32, 3), dtype=tf.float32, name='inputs')\n",
      "        Argument #2\n",
      "          DType: bool\n",
      "          Value: True\n",
      "        Argument #3\n",
      "          DType: NoneType\n",
      "          Value: None\n",
      "    Option #3\n",
      "      Callable with:\n",
      "        Argument #1\n",
      "          conv2d_input: TensorSpec(shape=(None, 32, 32, 3), dtype=tf.float32, name='conv2d_input')\n",
      "        Argument #2\n",
      "          DType: bool\n",
      "          Value: True\n",
      "        Argument #3\n",
      "          DType: NoneType\n",
      "          Value: None\n",
      "    Option #4\n",
      "      Callable with:\n",
      "        Argument #1\n",
      "          conv2d_input: TensorSpec(shape=(None, 32, 32, 3), dtype=tf.float32, name='conv2d_input')\n",
      "        Argument #2\n",
      "          DType: bool\n",
      "          Value: False\n",
      "        Argument #3\n",
      "          DType: NoneType\n",
      "          Value: None\n"
     ]
    }
   ],
   "source": [
    "!saved_model_cli show --dir {export_path} --all"
   ]
  },
  {
   "cell_type": "markdown",
   "metadata": {
    "id": "lSPWuegUb7Eo"
   },
   "source": [
    "## Функция для отрисовки иллюстраций"
   ]
  },
  {
   "cell_type": "code",
   "execution_count": 15,
   "metadata": {
    "colab": {
     "base_uri": "https://localhost:8080/",
     "height": 301
    },
    "id": "Luqm_Jyff9iR",
    "outputId": "29668a28-e834-42fc-d65c-4cc28bcf3be2"
   },
   "outputs": [
    {
     "data": {
      "image/png": "[encoded data removed]",
      "text/plain": [
       "<Figure size 72x72 with 1 Axes>"
      ]
     },
     "metadata": {
      "needs_background": "light"
     },
     "output_type": "display_data"
    }
   ],
   "source": [
    "# Функция для просмотра картинки из сета\n",
    "def show(idx, title):\n",
    "  plt.figure(figsize=(1, 1))\n",
    "  plt.imshow(test_images[idx]) #.reshape(28,28), cmap='gray')\n",
    "  plt.axis('off')\n",
    "  plt.title('\\n\\n{}'.format(title), fontdict={'size': 16})\n",
    "\n",
    "rando = random.randint(0,len(test_images)-1) # номер случайной картинки\n",
    "show(rando, 'Пример картинки: {}'.format(class_names[test_labels[rando][0]]))"
   ]
  },
  {
   "cell_type": "markdown",
   "metadata": {
    "id": "vwg1JKaGXWAg"
   },
   "source": [
    "## Создаем запрос к модели в TensorFlow Serving\n",
    "\n"
   ]
  },
  {
   "cell_type": "markdown",
   "metadata": {},
   "source": [
    "### Запустим контейнер с моделью"
   ]
  },
  {
   "cell_type": "code",
   "execution_count": 16,
   "metadata": {},
   "outputs": [
    {
     "name": "stdout",
     "output_type": "stream",
     "text": [
      "CONTAINER ID   IMAGE     COMMAND   CREATED   STATUS    PORTS     NAMES\n"
     ]
    }
   ],
   "source": [
    "# проверка состояния docker\n",
    "!docker container ls"
   ]
  },
  {
   "cell_type": "code",
   "execution_count": 17,
   "metadata": {},
   "outputs": [
    {
     "name": "stdout",
     "output_type": "stream",
     "text": [
      "b26dabe3bb833fd139580ed3b287069c09391182cb2b0adff11b8085d9d260b8\n"
     ]
    }
   ],
   "source": [
    "# sic!\n",
    "!docker run -d -p 8501:8501 --mount type=bind,source=E:/Vadim/N_U/nu29_TFServ/cifar_model,target=/models/cifar_model \\\n",
    "        -e MODEL_NAME=cifar_model -t tensorflow/serving "
   ]
  },
  {
   "cell_type": "code",
   "execution_count": 15,
   "metadata": {},
   "outputs": [
    {
     "name": "stdout",
     "output_type": "stream",
     "text": [
      "CONTAINER ID   IMAGE                COMMAND                  CREATED          STATUS          PORTS                              NAMES\n",
      "2322531af2ef   tensorflow/serving   \"/usr/bin/tf_servingвЂ¦\"   36 seconds ago   Up 34 seconds   8500/tcp, 0.0.0.0:8501->8501/tcp   beautiful_poitras\n"
     ]
    }
   ],
   "source": [
    "!docker container ls\n",
    "#контейнер запущен:"
   ]
  },
  {
   "cell_type": "markdown",
   "metadata": {
    "id": "TKnEHeTrbh3L"
   },
   "source": [
    "### Подготовим данные для REST запроса в формате json"
   ]
  },
  {
   "cell_type": "code",
   "execution_count": 28,
   "metadata": {
    "colab": {
     "base_uri": "https://localhost:8080/"
    },
    "id": "2dsD7KQG1m-R",
    "outputId": "c1ebdc77-91bd-4d8a-d734-3dc24e3f4449"
   },
   "outputs": [],
   "source": [
    "data = json.dumps({\"signature_name\": \"serving_default\", \"instances\": test_images[10:13].tolist()})\n",
    "#print(data)"
   ]
  },
  {
   "cell_type": "markdown",
   "metadata": {
    "id": "ReQd4QESIwXN"
   },
   "source": [
    "### REST запрос на предсказание по 3-м элементам из тестовой выборки"
   ]
  },
  {
   "cell_type": "markdown",
   "metadata": {
    "id": "iT3J-lHrhOYQ"
   },
   "source": [
    "#### Обновленная версия servable/обслуживаемой модели\n",
    "\n",
    "Пошлем запрос с помощью POST на конечную точку нашего REST сервера и передадим ему 3 образца. Также запросим у сервера последнюю версю обслуживаемой модели, не указывая  конкретно ее версию. "
   ]
  },
  {
   "cell_type": "code",
   "execution_count": 24,
   "metadata": {
    "colab": {
     "base_uri": "https://localhost:8080/",
     "height": 301
    },
    "id": "LFqZ7uK_e82P",
    "outputId": "79596422-7e2a-442a-8f62-ed217e16fd93"
   },
   "outputs": [
    {
     "data": {
      "image/png": "[encoded data removed]",
      "text/plain": [
       "<Figure size 72x72 with 1 Axes>"
      ]
     },
     "metadata": {
      "needs_background": "light"
     },
     "output_type": "display_data"
    }
   ],
   "source": [
    "headers = {\"content-type\": \"application/json\"}\n",
    "json_response = requests.post('http://localhost:8501/v1/models/cifar_model:predict', data=data, headers=headers)\n",
    "predictions = json.loads(json_response.text)['predictions']\n",
    "\n",
    "# проверка 1-го предсказанного элемента\n",
    "show(10, 'Предсказание модели: {} (индекс {})  -   Правильный ответ: {} (индекс {})'.format(\n",
    "  class_names[np.argmax(predictions[0])], np.argmax(predictions[0]), class_names[test_labels[10:13][0][0]], test_labels[10:13][0][0]))"
   ]
  },
  {
   "cell_type": "code",
   "execution_count": 26,
   "metadata": {},
   "outputs": [
    {
     "data": {
      "image/png": "[encoded data removed]",
      "text/plain": [
       "<Figure size 72x72 with 1 Axes>"
      ]
     },
     "metadata": {
      "needs_background": "light"
     },
     "output_type": "display_data"
    }
   ],
   "source": [
    "# проверка 2-го предсказанного элемента\n",
    "show(11, 'Предсказание модели: {} (индекс {})  -   Правильный ответ: {} (индекс {})'.format(\n",
    "  class_names[np.argmax(predictions[1])], np.argmax(predictions[1]), class_names[test_labels[10:13][1][0]], test_labels[10:13][1][0]))"
   ]
  },
  {
   "cell_type": "code",
   "execution_count": 27,
   "metadata": {},
   "outputs": [
    {
     "data": {
      "image/png": "[encoded data removed]",
      "text/plain": [
       "<Figure size 72x72 with 1 Axes>"
      ]
     },
     "metadata": {
      "needs_background": "light"
     },
     "output_type": "display_data"
    }
   ],
   "source": [
    "# проверка 3-го предсказанного элемента\n",
    "show(12, 'Предсказание модели: {} (индекс {})  -   Правильный ответ: {} (индекс {})'.format(\n",
    "  class_names[np.argmax(predictions[2])], np.argmax(predictions[2]), class_names[test_labels[10:13][2][0]], test_labels[10:13][2][0]))"
   ]
  },
  {
   "cell_type": "markdown",
   "metadata": {
    "id": "SoZPURy6Sva4"
   },
   "source": [
    "# numba jit"
   ]
  },
  {
   "cell_type": "code",
   "execution_count": 30,
   "metadata": {
    "id": "zELnObQ_cKMS"
   },
   "outputs": [],
   "source": [
    "# Импорт необходимых библиотек\n",
    "from numba import jit # декоратор numba, который будет оптимизировать наш код\n",
    "import numpy as np"
   ]
  },
  {
   "cell_type": "markdown",
   "metadata": {},
   "source": [
    "### без numba"
   ]
  },
  {
   "cell_type": "code",
   "execution_count": 31,
   "metadata": {
    "id": "yieHaLP0TaY_"
   },
   "outputs": [],
   "source": [
    "# Создаем случайные наборы чисел\n",
    "arr = np.arange(1000000).astype(np.float32)\n",
    "\n",
    "# Функция, которая будет обрабатывать эти числа \n",
    "def py_adapt(arr):\n",
    "  result = np.zeros_like(arr)\n",
    "  for i in range(len(arr) - 1):\n",
    "      result[i] = np.sqrt(arr[i] * arr[i + 1])\n",
    "  return result"
   ]
  },
  {
   "cell_type": "code",
   "execution_count": 32,
   "metadata": {
    "colab": {
     "base_uri": "https://localhost:8080/"
    },
    "id": "x_UbXcJCTnGO",
    "outputId": "2a9da9a5-3fb0-4300-90fc-a40eb4ff0fdf"
   },
   "outputs": [
    {
     "name": "stdout",
     "output_type": "stream",
     "text": [
      "1.65 s ± 188 ms per loop (mean ± std. dev. of 7 runs, 1 loop each)\n"
     ]
    }
   ],
   "source": [
    "# используем чистый python\n",
    "%timeit py_adapt(arr)"
   ]
  },
  {
   "cell_type": "markdown",
   "metadata": {},
   "source": [
    "### с numba и компиляция"
   ]
  },
  {
   "cell_type": "code",
   "execution_count": 38,
   "metadata": {
    "id": "lRPJucvvTxOO"
   },
   "outputs": [],
   "source": [
    "# Используем Numba декоратор с включенным компилятором\n",
    "@jit(nopython=True)\n",
    "def nb_adapt(arr):\n",
    "  result = np.zeros_like(arr)\n",
    "  for i in range(len(arr) - 1):\n",
    "      result[i] = np.sqrt(arr[i] * arr[i + 1])  \n",
    "  return result  "
   ]
  },
  {
   "cell_type": "code",
   "execution_count": 39,
   "metadata": {
    "colab": {
     "base_uri": "https://localhost:8080/"
    },
    "id": "T_i4dVnbT4uz",
    "outputId": "dda9fe67-fcc0-40b0-9fc9-f31d27833a1d"
   },
   "outputs": [
    {
     "name": "stdout",
     "output_type": "stream",
     "text": [
      "1.49 ms ± 18.7 µs per loop (mean ± std. dev. of 7 runs, 1000 loops each)\n"
     ]
    }
   ],
   "source": [
    "#Numba + Nopython режим\n",
    "\n",
    "%timeit nb_adapt(arr)\n",
    "\n",
    "# Magic команды тут https://jakevdp.github.io/PythonDataScienceHandbook/01.03-magic-commands.html"
   ]
  },
  {
   "cell_type": "markdown",
   "metadata": {},
   "source": [
    "### с numba в объектном режиме "
   ]
  },
  {
   "cell_type": "code",
   "execution_count": 43,
   "metadata": {
    "id": "Xj2FZqvZT875"
   },
   "outputs": [],
   "source": [
    "# Используем Numba декоратор в объектном режиме (питоновском)\n",
    "@jit(nopython=False)\n",
    "def nb_adapt(arr):\n",
    "  result = np.zeros_like(arr)\n",
    "  for i in range(len(arr) - 1):\n",
    "      result[i] = np.sqrt(arr[i] * arr[i + 1])\n",
    "  return result  "
   ]
  },
  {
   "cell_type": "code",
   "execution_count": 44,
   "metadata": {
    "colab": {
     "base_uri": "https://localhost:8080/"
    },
    "id": "o1bf8ztBUHQV",
    "outputId": "f2a22bd9-e086-45f9-b873-6fad07eb8006"
   },
   "outputs": [
    {
     "name": "stdout",
     "output_type": "stream",
     "text": [
      "The slowest run took 75.06 times longer than the fastest. This could mean that an intermediate result is being cached.\n",
      "17.7 ms ± 39.5 ms per loop (mean ± std. dev. of 7 runs, 1 loop each)\n"
     ]
    }
   ],
   "source": [
    "#Numba + режим объекта\n",
    "\n",
    "%timeit -n 1 nb_adapt(arr)\n",
    "\n",
    "#https://numba.pydata.org/ - больше о Numba"
   ]
  },
  {
   "cell_type": "code",
   "execution_count": 45,
   "metadata": {},
   "outputs": [
    {
     "name": "stdout",
     "output_type": "stream",
     "text": [
      "1.77 ms ± 94.1 µs per loop (mean ± std. dev. of 7 runs, 1 loop each)\n"
     ]
    }
   ],
   "source": [
    "%timeit -n 1 nb_adapt(arr)"
   ]
  },
  {
   "cell_type": "markdown",
   "metadata": {},
   "source": [
    "## Вывод: ускорение в $10^3$ раз, в случае объектного режима - перввый запуск несколько дольше"
   ]
  },
  {
   "cell_type": "code",
   "execution_count": null,
   "metadata": {},
   "outputs": [],
   "source": []
  }
 ],
 "metadata": {
  "accelerator": "GPU",
  "colab": {
   "collapsed_sections": [],
   "name": "nu29_tf_serving.ipynb",
   "provenance": [],
   "toc_visible": true
  },
  "kernelspec": {
   "display_name": "Python 3",
   "language": "python",
   "name": "python3"
  },
  "language_info": {
   "codemirror_mode": {
    "name": "ipython",
    "version": 3
   },
   "file_extension": ".py",
   "mimetype": "text/x-python",
   "name": "python",
   "nbconvert_exporter": "python",
   "pygments_lexer": "ipython3",
   "version": "3.8.8"
  }
 },
 "nbformat": 4,
 "nbformat_minor": 1
}
